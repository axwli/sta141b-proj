{
 "cells": [
  {
   "cell_type": "markdown",
   "id": "68351aba-00f9-4b91-a414-0143fb65988d",
   "metadata": {},
   "source": [
    "### imports"
   ]
  },
  {
   "cell_type": "code",
   "execution_count": 100,
   "id": "b20c0949-16ae-4eac-b822-77546bd71fde",
   "metadata": {},
   "outputs": [],
   "source": [
    "import pandas as pd\n",
    "import numpy as np\n",
    "from PyPDF2 import PdfReader"
   ]
  },
  {
   "cell_type": "markdown",
   "id": "ea8d60c2-79c4-403a-b2b9-17fb888638aa",
   "metadata": {},
   "source": [
    "### code"
   ]
  },
  {
   "cell_type": "code",
   "execution_count": 36,
   "id": "48c497b5-56b0-4d1d-8cc3-3f5c22f8fce2",
   "metadata": {},
   "outputs": [],
   "source": [
    "# Open the PDF file\n",
    "pdf_path = '/Users/AmandaLi/Desktop/Courses/STA141B/cleaned-ea-survey.pdf'"
   ]
  },
  {
   "cell_type": "code",
   "execution_count": 37,
   "id": "58edd6f0-10b0-4f59-98ec-b08078f74510",
   "metadata": {},
   "outputs": [],
   "source": [
    "reader = PdfReader(pdf_path)"
   ]
  },
  {
   "cell_type": "code",
   "execution_count": 38,
   "id": "ea7fcfab-af3a-4c9c-81fc-25f9e064d133",
   "metadata": {},
   "outputs": [],
   "source": [
    "text_by_page = []\n",
    "for page_num in range(len(reader.pages)):\n",
    "    page = reader.pages[page_num]\n",
    "    text = page.extract_text()\n",
    "    text_by_page.append(text)"
   ]
  },
  {
   "cell_type": "code",
   "execution_count": 191,
   "id": "e2578274-265d-4b38-aadb-1779419ca6c7",
   "metadata": {},
   "outputs": [],
   "source": [
    "def initial_cleanup(df):\n",
    "    df = df.iloc[7:]\n",
    "    df = df.iloc[:-3]\n",
    "    df = df.drop(df.columns[8:], axis=1)\n",
    "    return df"
   ]
  },
  {
   "cell_type": "code",
   "execution_count": 165,
   "id": "d7a7e444-83c6-4bce-9e80-d11a9d67b89f",
   "metadata": {},
   "outputs": [],
   "source": [
    "def str_to_na(df):\n",
    "    df.replace(None, np.nan, inplace=True)"
   ]
  },
  {
   "cell_type": "code",
   "execution_count": 248,
   "id": "615b004f-2095-4395-8907-c8f1c9fffa4a",
   "metadata": {},
   "outputs": [],
   "source": [
    "def shift_row_right(df):\n",
    "    # Identify rows where the 'Percent of District Pop in County' is None\n",
    "    row_with_none = df['Percent of District Pop in County'].isna()\n",
    "\n",
    "    # Loop over the rows that match the condition\n",
    "    for idx in df[row_with_none].index:\n",
    "        # Shift all columns from left to right, except the last column (temp)\n",
    "        for col in range(len(df.columns) - 1, 0, -1):\n",
    "            current_col = df.columns[col - 1]\n",
    "            next_col = df.columns[col]\n",
    "            # Move the value in the current column to the next column\n",
    "            df.at[idx, next_col] = df.at[idx, current_col]\n",
    "            # Set the current column to None\n",
    "            df.at[idx, current_col] = None\n",
    "\n",
    "        # Set 'County' column to None (as per original logic)\n",
    "        df.at[idx, 'County'] = None\n",
    "    \n",
    "    # Display the updated DataFrame\n",
    "    return df"
   ]
  },
  {
   "cell_type": "code",
   "execution_count": 260,
   "id": "a2a636e3-b436-48b7-b213-d38a3554194f",
   "metadata": {},
   "outputs": [],
   "source": [
    "def new_hanover_shift(df):\n",
    "    # Check if the 'County' column in the row is \"New\"\n",
    "    for idx, row in df.iterrows():\n",
    "        if row['County'] == 'New' and df.at[idx, 'District'] == 'Hanover':\n",
    "            # Combine 'New' and 'Hanover' into the 'County' column\n",
    "            df.at[idx, 'County'] = 'New Hanover'\n",
    "            \n",
    "            # Shift all the values to the left for this specific row\n",
    "            df.at[idx, 'District'] = df.at[idx, 'Total County Pop']\n",
    "            df.at[idx, 'Total County Pop'] = df.at[idx, 'Total District Pop']\n",
    "            df.at[idx, 'Total District Pop'] = df.at[idx, 'County Pop in District']\n",
    "            df.at[idx, 'County Pop in District'] = df.at[idx, 'Percent of County Pop in District']\n",
    "            df.at[idx, 'Percent of County Pop in District'] = df.at[idx, 'Percent of District Pop in County']\n",
    "            df.at[idx, 'Percent of District Pop in County'] = None  # Set the last column to None\n",
    "            df.at[idx, 'temp'] = None  # Set the last column ('temp') to None\n",
    "\n",
    "    return df"
   ]
  },
  {
   "cell_type": "code",
   "execution_count": 192,
   "id": "4793620d-fc00-4c8a-9239-a74bf368d745",
   "metadata": {},
   "outputs": [],
   "source": [
    "def rename_cols(table):\n",
    "    table.columns = [\"County\", \n",
    "                     \"District\", \n",
    "                     \"Total County Pop\", \n",
    "                     \"Total District Pop\",\n",
    "                     \"County Pop in District\", \n",
    "                     \"Percent of County Pop in District\", \n",
    "                     \"Percent of District Pop in County\",\n",
    "                    \"temp\"]\n",
    "    return table"
   ]
  },
  {
   "cell_type": "code",
   "execution_count": 263,
   "id": "9e1b1cd5-42f0-43a4-9998-3fc47ca75530",
   "metadata": {},
   "outputs": [],
   "source": [
    "def generate_df(text): \n",
    "    lines = text.split('\\n')  # Split the text into lines\n",
    "    data = [line.split() for line in lines]\n",
    "    \n",
    "    df = pd.DataFrame(data)\n",
    "    df = initial_cleanup(df)\n",
    "    df = rename_cols(df)\n",
    "    df = shift_row_right(df)\n",
    "    \n",
    "    # Print the DataFrame to inspect the result\n",
    "    return df"
   ]
  },
  {
   "cell_type": "code",
   "execution_count": 264,
   "id": "774ff08d-bd3c-4274-8075-7e543d862d23",
   "metadata": {},
   "outputs": [],
   "source": [
    "table0 = generate_df(text_by_page[0])\n",
    "table1 = generate_df(text_by_page[1])\n",
    "table2 = generate_df(text_by_page[2])"
   ]
  },
  {
   "cell_type": "code",
   "execution_count": 267,
   "id": "d2552292-1e17-4492-8e53-15a6a41de26d",
   "metadata": {},
   "outputs": [],
   "source": [
    "table1 = new_hanover_shift(table1)"
   ]
  },
  {
   "cell_type": "code",
   "execution_count": 305,
   "id": "78d54ac6-29dd-49e7-ae6b-5e04b2e3bd16",
   "metadata": {},
   "outputs": [],
   "source": [
    "def reload_tables(table0, table1, table2):\n",
    "    tables = [table0, table1, table2]\n",
    "    return tables"
   ]
  },
  {
   "cell_type": "code",
   "execution_count": 307,
   "id": "16dfb184-3f3e-4500-93c2-74f78f7542d7",
   "metadata": {},
   "outputs": [],
   "source": [
    "cleaned_tables = reload_tables(table0, table1, table2)\n",
    "combined_df = pd.concat(cleaned_tables, ignore_index=True)\n",
    "# drop temp column with None\n",
    "combined_df = combined_df.drop(columns =\"temp\", axis = 1)"
   ]
  },
  {
   "cell_type": "code",
   "execution_count": 308,
   "id": "eb2ec131-c4cd-4122-b524-ed930ba71012",
   "metadata": {},
   "outputs": [],
   "source": [
    "# drop last row\n",
    "combined_df = combined_df[:-1]"
   ]
  },
  {
   "cell_type": "code",
   "execution_count": 309,
   "id": "21a5dabf-6b50-4303-ae51-976432cf35d4",
   "metadata": {},
   "outputs": [
    {
     "data": {
      "text/html": [
       "<div>\n",
       "<style scoped>\n",
       "    .dataframe tbody tr th:only-of-type {\n",
       "        vertical-align: middle;\n",
       "    }\n",
       "\n",
       "    .dataframe tbody tr th {\n",
       "        vertical-align: top;\n",
       "    }\n",
       "\n",
       "    .dataframe thead th {\n",
       "        text-align: right;\n",
       "    }\n",
       "</style>\n",
       "<table border=\"1\" class=\"dataframe\">\n",
       "  <thead>\n",
       "    <tr style=\"text-align: right;\">\n",
       "      <th></th>\n",
       "      <th>County</th>\n",
       "      <th>District</th>\n",
       "      <th>Total County Pop</th>\n",
       "      <th>Total District Pop</th>\n",
       "      <th>County Pop in District</th>\n",
       "      <th>Percent of County Pop in District</th>\n",
       "      <th>Percent of District Pop in County</th>\n",
       "    </tr>\n",
       "  </thead>\n",
       "  <tbody>\n",
       "    <tr>\n",
       "      <th>0</th>\n",
       "      <td>Alamance</td>\n",
       "      <td>13</td>\n",
       "      <td>151,131</td>\n",
       "      <td>733,498</td>\n",
       "      <td>151,131</td>\n",
       "      <td>100.00%</td>\n",
       "      <td>20.60%</td>\n",
       "    </tr>\n",
       "    <tr>\n",
       "      <th>1</th>\n",
       "      <td>Alexander</td>\n",
       "      <td>5</td>\n",
       "      <td>37,198</td>\n",
       "      <td>733,499</td>\n",
       "      <td>37,198</td>\n",
       "      <td>100.00%</td>\n",
       "      <td>5.07%</td>\n",
       "    </tr>\n",
       "    <tr>\n",
       "      <th>2</th>\n",
       "      <td>Alleghany</td>\n",
       "      <td>5</td>\n",
       "      <td>11,155</td>\n",
       "      <td>733,499</td>\n",
       "      <td>11,155</td>\n",
       "      <td>100.00%</td>\n",
       "      <td>1.52%</td>\n",
       "    </tr>\n",
       "    <tr>\n",
       "      <th>3</th>\n",
       "      <td>Anson</td>\n",
       "      <td>9</td>\n",
       "      <td>26,948</td>\n",
       "      <td>733,499</td>\n",
       "      <td>26,948</td>\n",
       "      <td>100.00%</td>\n",
       "      <td>3.67%</td>\n",
       "    </tr>\n",
       "    <tr>\n",
       "      <th>4</th>\n",
       "      <td>Ashe</td>\n",
       "      <td>5</td>\n",
       "      <td>27,281</td>\n",
       "      <td>733,499</td>\n",
       "      <td>27,281</td>\n",
       "      <td>100.00%</td>\n",
       "      <td>3.72%</td>\n",
       "    </tr>\n",
       "    <tr>\n",
       "      <th>...</th>\n",
       "      <td>...</td>\n",
       "      <td>...</td>\n",
       "      <td>...</td>\n",
       "      <td>...</td>\n",
       "      <td>...</td>\n",
       "      <td>...</td>\n",
       "      <td>...</td>\n",
       "    </tr>\n",
       "    <tr>\n",
       "      <th>107</th>\n",
       "      <td>Wayne</td>\n",
       "      <td>1</td>\n",
       "      <td>122,623</td>\n",
       "      <td>733,498</td>\n",
       "      <td>122,623</td>\n",
       "      <td>100.00%</td>\n",
       "      <td>16.72%</td>\n",
       "    </tr>\n",
       "    <tr>\n",
       "      <th>108</th>\n",
       "      <td>Wilkes</td>\n",
       "      <td>5</td>\n",
       "      <td>69,340</td>\n",
       "      <td>733,499</td>\n",
       "      <td>69,340</td>\n",
       "      <td>100.00%</td>\n",
       "      <td>9.45%</td>\n",
       "    </tr>\n",
       "    <tr>\n",
       "      <th>109</th>\n",
       "      <td>Wilson</td>\n",
       "      <td>1</td>\n",
       "      <td>81,234</td>\n",
       "      <td>733,498</td>\n",
       "      <td>81,234</td>\n",
       "      <td>100.00%</td>\n",
       "      <td>11.07%</td>\n",
       "    </tr>\n",
       "    <tr>\n",
       "      <th>110</th>\n",
       "      <td>Yadkin</td>\n",
       "      <td>10</td>\n",
       "      <td>38,406</td>\n",
       "      <td>733,499</td>\n",
       "      <td>38,406</td>\n",
       "      <td>100.00%</td>\n",
       "      <td>5.24%</td>\n",
       "    </tr>\n",
       "    <tr>\n",
       "      <th>111</th>\n",
       "      <td>Yancey</td>\n",
       "      <td>11</td>\n",
       "      <td>17,818</td>\n",
       "      <td>733,499</td>\n",
       "      <td>17,818</td>\n",
       "      <td>100.00%</td>\n",
       "      <td>2.43%</td>\n",
       "    </tr>\n",
       "  </tbody>\n",
       "</table>\n",
       "<p>112 rows × 7 columns</p>\n",
       "</div>"
      ],
      "text/plain": [
       "        County District Total County Pop Total District Pop  \\\n",
       "0     Alamance       13          151,131            733,498   \n",
       "1    Alexander        5           37,198            733,499   \n",
       "2    Alleghany        5           11,155            733,499   \n",
       "3        Anson        9           26,948            733,499   \n",
       "4         Ashe        5           27,281            733,499   \n",
       "..         ...      ...              ...                ...   \n",
       "107      Wayne        1          122,623            733,498   \n",
       "108     Wilkes        5           69,340            733,499   \n",
       "109     Wilson        1           81,234            733,498   \n",
       "110     Yadkin       10           38,406            733,499   \n",
       "111     Yancey       11           17,818            733,499   \n",
       "\n",
       "    County Pop in District Percent of County Pop in District  \\\n",
       "0                  151,131                           100.00%   \n",
       "1                   37,198                           100.00%   \n",
       "2                   11,155                           100.00%   \n",
       "3                   26,948                           100.00%   \n",
       "4                   27,281                           100.00%   \n",
       "..                     ...                               ...   \n",
       "107                122,623                           100.00%   \n",
       "108                 69,340                           100.00%   \n",
       "109                 81,234                           100.00%   \n",
       "110                 38,406                           100.00%   \n",
       "111                 17,818                           100.00%   \n",
       "\n",
       "    Percent of District Pop in County  \n",
       "0                              20.60%  \n",
       "1                               5.07%  \n",
       "2                               1.52%  \n",
       "3                               3.67%  \n",
       "4                               3.72%  \n",
       "..                                ...  \n",
       "107                            16.72%  \n",
       "108                             9.45%  \n",
       "109                            11.07%  \n",
       "110                             5.24%  \n",
       "111                             2.43%  \n",
       "\n",
       "[112 rows x 7 columns]"
      ]
     },
     "execution_count": 309,
     "metadata": {},
     "output_type": "execute_result"
    }
   ],
   "source": [
    "combined_df"
   ]
  },
  {
   "cell_type": "code",
   "execution_count": 310,
   "id": "02762e82-d044-403d-acaf-eabc44a93bee",
   "metadata": {},
   "outputs": [],
   "source": [
    "# changing column types for easy data analysis\n",
    "combined_df['District'] = combined_df['District'].astype(float)\n",
    "combined_df['Total County Pop'] = combined_df['Total County Pop'].str.replace(',', '').astype(int)\n",
    "combined_df['Total District Pop'] = combined_df['Total District Pop'].str.replace(',', '').astype(int)\n",
    "combined_df['County Pop in District'] = combined_df['County Pop in District'].str.replace(',', '').astype(int)"
   ]
  },
  {
   "cell_type": "code",
   "execution_count": 311,
   "id": "6c798a8c-4ce2-4e88-9fb5-565d9376fd86",
   "metadata": {},
   "outputs": [],
   "source": [
    "combined_df['Percent of County Pop in District'] = (combined_df['County Pop in District'] / combined_df['Total County Pop']) * 100\n",
    "combined_df['Percent of District Pop in County'] = (combined_df['County Pop in District'] / combined_df['Total District Pop']) * 100"
   ]
  },
  {
   "cell_type": "code",
   "execution_count": 317,
   "id": "a1d79c87-a5c0-4595-8d76-cfec5c92b8c9",
   "metadata": {},
   "outputs": [
    {
     "name": "stderr",
     "output_type": "stream",
     "text": [
      "/var/folders/xd/ljd80glj4631l10fr9j779bm0000gn/T/ipykernel_46423/4216097951.py:1: FutureWarning: Series.fillna with 'method' is deprecated and will raise in a future version. Use obj.ffill() or obj.bfill() instead.\n",
      "  combined_df['County'] = combined_df['County'].fillna(method='ffill')\n"
     ]
    }
   ],
   "source": [
    "combined_df['County'] = combined_df['County'].fillna(method='ffill')"
   ]
  },
  {
   "cell_type": "code",
   "execution_count": 319,
   "id": "6c0261f8-4660-4ebd-9280-7baae6ecdcab",
   "metadata": {},
   "outputs": [],
   "source": [
    "# create dictionary\n",
    "combined_dict = {}\n",
    "\n",
    "# populate dictionary\n",
    "for index, row in combined_df.iterrows():\n",
    "    county = row['County']\n",
    "    \n",
    "    # for current row\n",
    "    district_info = {\n",
    "        'District': row['District'],\n",
    "        'Total County Pop': row['Total County Pop'],\n",
    "        'Total District Pop': row['Total District Pop'],\n",
    "        'County Pop in District': row['County Pop in District'],\n",
    "        'Percent of County Pop in District': row['Percent of County Pop in District'],\n",
    "        'Percent of District Pop in County': row['Percent of District Pop in County']\n",
    "    }\n",
    "    \n",
    "    # if county is already a key, append info\n",
    "    if county in combined_dict:\n",
    "        combined_dict[county].append(district_info)\n",
    "    else:\n",
    "        # if not already a key, create new key\n",
    "        combined_dict[county] = [district_info]"
   ]
  },
  {
   "cell_type": "markdown",
   "id": "0f66605a-5d8e-4a8e-86e7-ebcf66632a10",
   "metadata": {},
   "source": [
    "### write csv and json to local machine"
   ]
  },
  {
   "cell_type": "code",
   "execution_count": 322,
   "id": "a0d3b79d-8d4c-4524-bbdd-63b224b16e86",
   "metadata": {},
   "outputs": [],
   "source": [
    "combined_df.to_csv('nc_pop.csv', index=False) "
   ]
  },
  {
   "cell_type": "code",
   "execution_count": 323,
   "id": "204101cf-5041-4cd3-b75b-515ffe1a9692",
   "metadata": {},
   "outputs": [],
   "source": [
    "import json\n",
    "with open('nc_pop.json', 'w') as fp:\n",
    "    json.dump(combined_dict, fp)"
   ]
  }
 ],
 "metadata": {
  "kernelspec": {
   "display_name": "Python 3 (ipykernel)",
   "language": "python",
   "name": "python3"
  },
  "language_info": {
   "codemirror_mode": {
    "name": "ipython",
    "version": 3
   },
   "file_extension": ".py",
   "mimetype": "text/x-python",
   "name": "python",
   "nbconvert_exporter": "python",
   "pygments_lexer": "ipython3",
   "version": "3.11.3"
  }
 },
 "nbformat": 4,
 "nbformat_minor": 5
}
