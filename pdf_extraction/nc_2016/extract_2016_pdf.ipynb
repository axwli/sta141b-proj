{
 "cells": [
  {
   "cell_type": "markdown",
   "id": "bdaf5951-3677-4724-9f4d-2cdd9241da62",
   "metadata": {},
   "source": [
    "### imports"
   ]
  },
  {
   "cell_type": "code",
   "execution_count": 3,
   "id": "7a47eff4-e0db-4c30-bce8-01cc878a7b9d",
   "metadata": {},
   "outputs": [],
   "source": [
    "import pandas as pd\n",
    "import numpy as np\n",
    "from PyPDF2 import PdfReader\n",
    "import re"
   ]
  },
  {
   "cell_type": "markdown",
   "id": "27a19803-f36b-4d4a-8afd-a4b4015f318a",
   "metadata": {},
   "source": [
    "### code"
   ]
  },
  {
   "cell_type": "code",
   "execution_count": 2,
   "id": "6d4c3ca4-b662-4b9d-bc5f-79b9e35bd01d",
   "metadata": {},
   "outputs": [],
   "source": [
    "pdf_path = 'survey_2016.pdf'"
   ]
  },
  {
   "cell_type": "code",
   "execution_count": 4,
   "id": "19a0545d-7bc6-4079-83e6-f4a8d056308f",
   "metadata": {},
   "outputs": [],
   "source": [
    "reader = PdfReader(pdf_path)"
   ]
  },
  {
   "cell_type": "code",
   "execution_count": 5,
   "id": "ac918ae3-f5d0-4e5d-a7cc-c6cb55100a0e",
   "metadata": {},
   "outputs": [],
   "source": [
    "text_by_page = []\n",
    "for page_num in range(len(reader.pages)):\n",
    "    page = reader.pages[page_num]\n",
    "    text = page.extract_text()\n",
    "    text_by_page.append(text)"
   ]
  },
  {
   "cell_type": "code",
   "execution_count": 6,
   "id": "8febd9a3-ac74-46aa-ac98-66fdded89558",
   "metadata": {},
   "outputs": [],
   "source": [
    "def initial_cleanup(df):\n",
    "    df = df.iloc[5:]\n",
    "    df = df.iloc[:-1]\n",
    "    df = df.drop(df.columns[10:], axis=1)\n",
    "    return df"
   ]
  },
  {
   "cell_type": "code",
   "execution_count": 7,
   "id": "661af416-ef6e-4055-af56-11abcc845459",
   "metadata": {},
   "outputs": [],
   "source": [
    "def generate_df(text): \n",
    "    lines = text.split('\\n')  # Split the text into lines\n",
    "    data = [line.split() for line in lines]\n",
    "    \n",
    "    df = pd.DataFrame(data)\n",
    "    #df = initial_cleanup(df)\n",
    "    #df = rename_cols(df)\n",
    "    #df = shift_row_right(df)\n",
    "    \n",
    "    # Print the DataFrame to inspect the result\n",
    "    return df"
   ]
  },
  {
   "cell_type": "code",
   "execution_count": 8,
   "id": "f6b4a4f8-c981-4dbd-a68c-477d08c00bcf",
   "metadata": {},
   "outputs": [],
   "source": [
    "text0 = text_by_page[0]\n",
    "text1 = text_by_page[1]\n",
    "text2 = text_by_page[2]"
   ]
  },
  {
   "cell_type": "code",
   "execution_count": 9,
   "id": "fe10ef02-b7be-4279-8379-a655aa9487be",
   "metadata": {},
   "outputs": [
    {
     "data": {
      "text/plain": [
       "' 2011 North Carolina General Assembly2016 Contingent Congressional Plan CorrectedCounty District County PopDistrict      \\nPopCounty \\nDistrict Pop% County in \\nDistrict% of District \\nin CountyTotal Population by County and District\\nGraham118,861733,4998,861100.0%1.208%Granville159,916733,49959,916100.0%8.169%Greene321,362733,49821,362100.0%2.912%Guilford6488,406733,498162,41833.255%22.143%Guilford13488,406733,499325,98866.745%44.443%Halifax154,691733,49954,691100.0%7.456%Harnett2114,678733,499114,678100.0%15.634%Haywood1159,036733,49959,036100.0%8.049%Henderson11106,740733,499106,740100.0%14.552%Hertford124,669733,49924,669100.0%3.363%Hoke846,952733,49946,952100.0%6.401%Hyde35,810733,4985,810100.0%0.792%Iredell10159,437733,4996,0423.79%0.824%Iredell13159,437733,499153,39596.21%20.913%Jackson1140,271733,49940,271100.0%5.49%Johnston2168,878733,499109,33264.74%14.906%Johnston7168,878733,49959,54635.26%8.118%Jones310,153733,49810,153100.0%1.384%Lee657,866733,49857,866100.0%7.889%Lenoir359,495733,49859,495100.0%8.111%Lincoln1078,265733,49978,265100.0%10.67%Macon1133,922733,49933,922100.0%4.625%Madison1120,764733,49920,764100.0%2.831%Martin124,505733,49924,505100.0%3.341%McDowell1144,996733,49944,996100.0%6.134%Mecklenburg9919,628733,498186,13020.24%25.376%Mecklenburg12919,628733,498733,49879.76%100.0%Mitchell1115,579733,49915,579100.0%2.124%Montgomery827,798733,49927,798100.0%3.79%Moore888,247733,49988,247100.0%12.031%Nash295,840733,49995,840100.0%13.066%New Hanover7202,667733,499202,667100.0%27.63%Northampton122,099733,49922,099100.0%3.013%Onslow3177,772733,498177,772100.0%24.236%Orange4133,801733,499133,801100.0%18.241%Pamlico313,144733,49813,144100.0%1.792%Pasquotank340,661733,49840,661100.0%5.543%Pender752,217733,49952,217100.0%7.119%Perquimans313,453733,49813,453100.0%1.834%Person639,464733,49839,464100.0%5.38%Pitt1168,148733,49980,88048.1%11.027%Pitt3168,148733,49887,26851.9%11.898%Page 2 of 62016_Contingent_Congressional_B 02/25/2016 01:21:06 PM'"
      ]
     },
     "execution_count": 9,
     "metadata": {},
     "output_type": "execute_result"
    }
   ],
   "source": [
    "text1"
   ]
  },
  {
   "cell_type": "code",
   "execution_count": 12,
   "id": "16aaf9a5-f7e4-4209-9279-7353419da623",
   "metadata": {},
   "outputs": [],
   "source": [
    "def generate_df1(text1):\n",
    "    # Regular expression to capture the needed data\n",
    "    pattern = r'([A-Za-z ]+)(\\d{1,3}(?:,\\d{3})*)(\\d{1,3}(?:,\\d{3})*)(\\d{1,3}(?:,\\d{3})*)(\\d+\\.\\d+)%(\\d+\\.\\d+)%'\n",
    "    \n",
    "    # Find all matches using regex\n",
    "    matches = re.findall(pattern, text1)\n",
    "    \n",
    "    # Create a DataFrame from the matches\n",
    "    df = pd.DataFrame(matches, columns=[\"County\", \"County Pop\", \"District Pop\", \"County District Pop\", \"Percent County in District\", \"Percent District in County\"])\n",
    "    \n",
    "    # Clean up numeric columns by removing commas and converting to integers or floats\n",
    "    df[\"County Pop\"] = df[\"County Pop\"].str.replace(\",\", \"\").astype(int)\n",
    "    df[\"District Pop\"] = df[\"District Pop\"].str.replace(\",\", \"\").astype(int)\n",
    "    df[\"County District Pop\"] = df[\"County District Pop\"].str.replace(\",\", \"\").astype(int)\n",
    "    df[\"Percent County in District\"] = df[\"Percent County in District\"].astype(float)\n",
    "    df[\"Percent District in County\"] = df[\"Percent District in County\"].astype(float)\n",
    "\n",
    "    \n",
    "    # Display the resulting DataFrame\n",
    "    return df"
   ]
  },
  {
   "cell_type": "code",
   "execution_count": 13,
   "id": "e1cc2468-9c35-44c8-be99-e6f5b2ee7a8e",
   "metadata": {},
   "outputs": [],
   "source": [
    "def process_county_pop_and_district(row):\n",
    "    county_pop_str = str(row[\"County Pop\"])\n",
    "    county_district_pop_str = str(row[\"County District Pop\"])\n",
    "    \n",
    "    # The district is the part of the County Pop that is not in the County District Pop\n",
    "    district = int(county_pop_str[:len(county_pop_str) - len(county_district_pop_str)])\n",
    "    \n",
    "    # Remove the district part from County Pop\n",
    "    updated_county_pop_str = county_pop_str[len(str(district)):]  # Remove the district part\n",
    "    updated_county_pop = int(updated_county_pop_str)\n",
    "    \n",
    "    return district, updated_county_pop"
   ]
  },
  {
   "cell_type": "code",
   "execution_count": 14,
   "id": "d6732567-b150-41cc-89a1-d8d2e5a89ce1",
   "metadata": {},
   "outputs": [],
   "source": [
    "#df0 = generate_text0(text0)\n",
    "df1 = generate_df1(text1)\n",
    "#df2 = generate_text2(text2)"
   ]
  },
  {
   "cell_type": "code",
   "execution_count": 15,
   "id": "fbb00dc5-84cf-49c7-8b2d-4b0c1b18cdb3",
   "metadata": {},
   "outputs": [],
   "source": [
    "df2 = generate_df1(text2)"
   ]
  },
  {
   "cell_type": "code",
   "execution_count": 16,
   "id": "920345e5-88c4-4055-b6bc-a57bb9b8cf33",
   "metadata": {},
   "outputs": [],
   "source": [
    "# Apply the combined function to the DataFrame\n",
    "df1[\"District\"], df1[\"County Pop\"] = zip(*df1.apply(process_county_pop_and_district, axis=1))"
   ]
  },
  {
   "cell_type": "code",
   "execution_count": 17,
   "id": "a8116d37-1791-4670-8792-a4641cb3b06c",
   "metadata": {},
   "outputs": [],
   "source": [
    "# Apply the combined function to the DataFrame\n",
    "df2[\"District\"], df2[\"County Pop\"] = zip(*df2.apply(process_county_pop_and_district, axis=1))"
   ]
  },
  {
   "cell_type": "code",
   "execution_count": 18,
   "id": "cfcb854a-f029-4c2c-9b3b-46fd3bf696b1",
   "metadata": {},
   "outputs": [],
   "source": [
    "def generate0(text):\n",
    "    # Regular expression to match the required data\n",
    "    pattern = r\"([A-Za-z ]+)\\s+(\\d+)\\s+([\\d,]+)\\s+733,499\\s+([\\d,]+)\\s+(\\d+\\.\\d+)%\\s+(\\d+\\.\\d+)%\"\n",
    "    \n",
    "    # Find all matches\n",
    "    matches = re.findall(pattern, text)\n",
    "    \n",
    "    # List to store structured data\n",
    "    data = []\n",
    "    \n",
    "    # Process matches and store them in the list\n",
    "    for match in matches:\n",
    "        county = match[0].strip()\n",
    "        district = match[1]\n",
    "        county_pop = match[2].replace(\",\", \"\")  # Remove commas\n",
    "        district_pop = \"733499\"  # Fixed district population value\n",
    "        county_district_pop = match[3].replace(\",\", \"\")  # Remove commas\n",
    "        percent_county_in_district = match[4]\n",
    "        percent_of_district_in_county = match[5]\n",
    "        \n",
    "        # Append the row to the data list\n",
    "        data.append([county, district, county_pop, district_pop, county_district_pop, percent_county_in_district, percent_of_district_in_county])\n",
    "    \n",
    "    # Create DataFrame\n",
    "    df = pd.DataFrame(data, columns=[\"County\", \"District\", \"County Pop\", \"District Pop\", \"County District Pop\", \"Percent County in District\", \"Percent of District in County\"])\n",
    "    \n",
    "    # Display the DataFrame\n",
    "    return df"
   ]
  },
  {
   "cell_type": "code",
   "execution_count": 19,
   "id": "8b053fed-9378-4a57-afed-4ea80429e339",
   "metadata": {},
   "outputs": [],
   "source": [
    "df0 = generate0(text0)"
   ]
  },
  {
   "cell_type": "code",
   "execution_count": 20,
   "id": "368adeab-6c22-4678-b3ea-cf112b6f4a9c",
   "metadata": {},
   "outputs": [],
   "source": [
    "df = df2 = df2[[\"County\", \"District\", \"County Pop\", \"District Pop\", \"County District Pop\", \"Percent County in District\", \"Percent District in County\"]]"
   ]
  },
  {
   "cell_type": "code",
   "execution_count": 21,
   "id": "35ade454-e3bc-4123-8ad6-af3b05328248",
   "metadata": {},
   "outputs": [],
   "source": [
    "df1 = df1[[\"County\", \"District\", \"County Pop\", \"District Pop\", \"County District Pop\", \"Percent County in District\", \"Percent District in County\"]]"
   ]
  },
  {
   "cell_type": "code",
   "execution_count": 22,
   "id": "23befdd2-7442-413b-8e9b-4cabe7c2a7d9",
   "metadata": {},
   "outputs": [],
   "source": [
    "df0 = df0.rename(columns={'Percent of District in County': 'Percent District in County'})"
   ]
  },
  {
   "cell_type": "code",
   "execution_count": 23,
   "id": "7c444f27-2693-4ccf-b454-9c3e46644da2",
   "metadata": {},
   "outputs": [],
   "source": [
    "full_df = pd.concat([df0, df1, df2], ignore_index=True)"
   ]
  },
  {
   "cell_type": "code",
   "execution_count": 162,
   "id": "65c4d43e-e465-4334-870c-181f3eaf74fa",
   "metadata": {},
   "outputs": [],
   "source": [
    "full_df.to_csv('nc_pop_2016.csv', index=False) "
   ]
  }
 ],
 "metadata": {
  "kernelspec": {
   "display_name": "Python 3 (ipykernel)",
   "language": "python",
   "name": "python3"
  },
  "language_info": {
   "codemirror_mode": {
    "name": "ipython",
    "version": 3
   },
   "file_extension": ".py",
   "mimetype": "text/x-python",
   "name": "python",
   "nbconvert_exporter": "python",
   "pygments_lexer": "ipython3",
   "version": "3.11.3"
  }
 },
 "nbformat": 4,
 "nbformat_minor": 5
}
